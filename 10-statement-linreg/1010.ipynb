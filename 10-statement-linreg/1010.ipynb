{
 "cells": [
  {
   "cell_type": "code",
   "execution_count": 1,
   "metadata": {
    "collapsed": true,
    "pycharm": {
     "name": "#%%\n"
    }
   },
   "outputs": [],
   "source": [
    "import numpy as np\n",
    "import pandas as pd\n",
    "import math\n",
    "import sklearn.preprocessing\n",
    "from sklearn.neighbors import KNeighborsRegressor\n",
    "from sklearn.model_selection import KFold\n",
    "from sklearn.model_selection import cross_val_score\n",
    "from sklearn import metrics\n",
    "from sklearn import datasets\n",
    "from sklearn.linear_model import Perceptron\n",
    "from sklearn.preprocessing import StandardScaler\n",
    "from sklearn.feature_extraction.text import TfidfVectorizer\n",
    "from sklearn.model_selection import GridSearchCV\n",
    "from sklearn.metrics import roc_auc_score\n",
    "from sklearn.metrics import precision_score\n",
    "import re\n",
    "from sklearn.feature_extraction import DictVectorizer\n",
    "from scipy.sparse import hstack\n",
    "from sklearn.linear_model import Ridge"
   ]
  },
  {
   "cell_type": "markdown",
   "source": [
    "#1"
   ],
   "metadata": {
    "collapsed": false,
    "pycharm": {
     "name": "#%% md\n"
    }
   }
  },
  {
   "cell_type": "code",
   "execution_count": null,
   "outputs": [],
   "source": [
    "train = pd.read_csv('salary-train.csv')#header=None)\n",
    "test = pd.read_csv('salary-test-mini.csv')#header=None)\n",
    "#print(train.FullDescription[1])"
   ],
   "metadata": {
    "collapsed": false,
    "pycharm": {
     "name": "#%%\n"
    }
   }
  },
  {
   "cell_type": "markdown",
   "source": [
    "#2"
   ],
   "metadata": {
    "collapsed": false,
    "pycharm": {
     "name": "#%% md\n"
    }
   }
  },
  {
   "cell_type": "code",
   "execution_count": null,
   "outputs": [],
   "source": [
    "train['FullDescription'] = train['FullDescription'].apply(lambda x : re.sub('[^a-zA-Z0-9]',' ',x.lower()))\n",
    "test['FullDescription'] = test['FullDescription'].apply(lambda x : re.sub('[^a-zA-Z0-9]',' ',x.lower()))\n",
    "\n",
    "#def transform_data(data):\n",
    "#    data.FullDescription = data.FullDescription.replace('[^a-zA-Z0-9]', ' ', regex=True).str.lower()\n",
    "#    return data\n",
    "#train = transform_data(train)\n",
    "#test = transform_data(test)\n",
    "\n",
    "#for i in range(train.shape[1]):\n",
    "#    train['FullDescription'][i]=re.sub('[^a-zA-Z0-9]',' ',train['FullDescription'][i].lower())\n",
    "\n",
    "\n",
    "#print(train.FullDescription[1])\n",
    "\n",
    "#print(test)"
   ],
   "metadata": {
    "collapsed": false,
    "pycharm": {
     "name": "#%%\n"
    }
   }
  },
  {
   "cell_type": "code",
   "execution_count": null,
   "outputs": [],
   "source": [
    "vectorizer = TfidfVectorizer(min_df=5)\n",
    "x_train_vect = vectorizer.fit_transform(train['FullDescription'])\n",
    "x_test_vect = vectorizer.transform(test['FullDescription'])\n",
    "\n",
    "train['LocationNormalized'].fillna('nan',inplace=True)\n",
    "train['ContractTime'].fillna('nan',inplace=True)\n",
    "\n",
    "\n",
    "\n",
    "\n",
    "enc = DictVectorizer()\n",
    "x_train_categ = enc.fit_transform(train[['LocationNormalized','ContractTime']].to_dict('records'))\n",
    "x_test_categ = enc.transform(test[['LocationNormalized','ContractTime']].to_dict('records'))\n",
    "#print(x_train_categ)\n",
    "#print(x_train_vect.shape[0])\n",
    "#print(x_train_categ.shape[0])\n",
    "\n",
    "X_train = hstack((x_train_vect,x_train_categ))\n",
    "X_test = hstack((x_test_vect,x_test_categ))\n",
    "print(X_train.shape)\n",
    "print(X_test.shape)\n",
    "print(X_train)"
   ],
   "metadata": {
    "collapsed": false,
    "pycharm": {
     "name": "#%%\n"
    }
   }
  },
  {
   "cell_type": "markdown",
   "source": [
    "#3-4"
   ],
   "metadata": {
    "collapsed": false,
    "pycharm": {
     "name": "#%% md\n"
    }
   }
  },
  {
   "cell_type": "code",
   "execution_count": 15,
   "outputs": [
    {
     "name": "stdout",
     "output_type": "stream",
     "text": [
      "(60000, 24627)\n",
      "(2, 24627)\n",
      "  (0, 9611)\t0.04490546953101409\n",
      "  (0, 20413)\t0.0387030844464958\n",
      "  (0, 11722)\t0.024933985634032353\n",
      "  (0, 18451)\t0.05094142801730146\n",
      "  (0, 3350)\t0.02780917325280237\n",
      "  (0, 7709)\t0.051305209532239764\n",
      "  (0, 12171)\t0.019784060664418117\n",
      "  (0, 22197)\t0.020520635156015515\n",
      "  (0, 7323)\t0.07101020149740392\n",
      "  (0, 2650)\t0.03545174285205156\n",
      "  (0, 9932)\t0.056610755716966256\n",
      "  (0, 22668)\t0.02669865026604241\n",
      "  (0, 8484)\t0.06324665355859202\n",
      "  (0, 11621)\t0.052325445744513636\n",
      "  (0, 729)\t0.04195598980714451\n",
      "  (0, 1237)\t0.027657781597657527\n",
      "  (0, 19269)\t0.05547416136056606\n",
      "  (0, 7094)\t0.046308072679393346\n",
      "  (0, 22696)\t0.03842120306776972\n",
      "  (0, 19369)\t0.062300287754603965\n",
      "  (0, 8222)\t0.05853002898579397\n",
      "  (0, 19504)\t0.04001548405514181\n",
      "  (0, 11849)\t0.054256825090476454\n",
      "  (0, 5700)\t0.03416514657651014\n",
      "  (0, 10064)\t0.030482790607819672\n",
      "  :\t:\n",
      "  (59999, 17671)\t0.3098359244673809\n",
      "  (59999, 13265)\t0.29244142263722717\n",
      "  (59999, 3962)\t0.2883820935634986\n",
      "  (59999, 5274)\t0.2462393628997595\n",
      "  (59999, 3334)\t0.21061449189522577\n",
      "  (59999, 3648)\t0.22594726713367067\n",
      "  (59999, 11904)\t0.17402731328321297\n",
      "  (59999, 1612)\t0.28792899653629384\n",
      "  (59999, 1410)\t0.1293604972387815\n",
      "  (59999, 18693)\t0.189278331537024\n",
      "  (59999, 2396)\t0.15566908372657629\n",
      "  (59999, 13585)\t0.26577907387816974\n",
      "  (59999, 22592)\t0.06452450330737976\n",
      "  (59999, 9851)\t0.16748634948204125\n",
      "  (59999, 1968)\t0.18144279171440908\n",
      "  (59999, 9406)\t0.17323186181941802\n",
      "  (59999, 14776)\t0.12754331599497468\n",
      "  (59999, 17348)\t0.08429189168292081\n",
      "  (59999, 20886)\t0.1634585304883056\n",
      "  (59999, 22438)\t0.05028259142994749\n",
      "  (59999, 2224)\t0.04979139035909137\n",
      "  (59999, 20830)\t0.08664339188506286\n",
      "  (59999, 1270)\t0.04328993444771371\n",
      "  (59999, 22862)\t1.0\n",
      "  (59999, 23818)\t1.0\n",
      "[56571.62096491 37195.16483654]\n"
     ]
    }
   ],
   "source": [
    "\n",
    "y_train=train['SalaryNormalized']\n",
    "\n",
    "clf = Ridge(alpha=1.0)\n",
    "clf.fit(X_train, y_train)\n",
    "res = clf.predict(X_test)\n",
    "print(res)"
   ],
   "metadata": {
    "collapsed": false,
    "pycharm": {
     "name": "#%%\n"
    }
   }
  }
 ],
 "metadata": {
  "kernelspec": {
   "display_name": "Python 3",
   "language": "python",
   "name": "python3"
  },
  "language_info": {
   "codemirror_mode": {
    "name": "ipython",
    "version": 2
   },
   "file_extension": ".py",
   "mimetype": "text/x-python",
   "name": "python",
   "nbconvert_exporter": "python",
   "pygments_lexer": "ipython2",
   "version": "2.7.6"
  }
 },
 "nbformat": 4,
 "nbformat_minor": 0
}