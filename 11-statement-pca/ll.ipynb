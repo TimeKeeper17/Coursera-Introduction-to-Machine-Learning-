{
 "cells": [
  {
   "cell_type": "code",
   "execution_count": 3,
   "metadata": {
    "collapsed": true,
    "pycharm": {
     "name": "#%%\n"
    }
   },
   "outputs": [],
   "source": [
    "import numpy as np\n",
    "import pandas as pd\n",
    "import math\n",
    "import sklearn.preprocessing\n",
    "from sklearn.neighbors import KNeighborsRegressor\n",
    "from sklearn.model_selection import KFold\n",
    "from sklearn.model_selection import cross_val_score\n",
    "from sklearn import metrics\n",
    "from sklearn import datasets\n",
    "from sklearn.linear_model import Perceptron\n",
    "from sklearn.preprocessing import StandardScaler\n",
    "from sklearn.feature_extraction.text import TfidfVectorizer\n",
    "from sklearn.model_selection import GridSearchCV\n",
    "from sklearn.metrics import roc_auc_score\n",
    "from sklearn.metrics import precision_score\n",
    "import re\n",
    "from sklearn.feature_extraction import DictVectorizer\n",
    "from scipy.sparse import hstack\n",
    "from sklearn.linear_model import Ridge\n",
    "from sklearn.decomposition import PCA"
   ]
  },
  {
   "cell_type": "code",
   "execution_count": 48,
   "outputs": [
    {
     "name": "stdout",
     "output_type": "stream",
     "text": [
      "0.9277429537836401\n",
      "[[1.         0.90965222]\n",
      " [0.90965222 1.        ]]\n",
      "361\n",
      "V 26\n"
     ]
    }
   ],
   "source": [
    "price = pd.read_csv('close_prices.csv')\n",
    "index = pd.read_csv('djia_index.csv')\n",
    "X=price.iloc[:,1:]\n",
    "#print(len(X.iloc[:,0]))\n",
    "pca = PCA(n_components=10)\n",
    "pca.fit(X)\n",
    "print(sum(pca.explained_variance_ratio_[0:4]))\n",
    "x=pca.transform(X)\n",
    "#print(x)\n",
    "#print(len(x[0]))\n",
    "print(np.corrcoef(x[:,0],index['^DJI']))\n",
    "#print(len(x[:,0]))\n",
    "print(x[:,0].argmax())\n",
    "A=price.iloc[x[:,0].argmax()]\n",
    "print(A.index[A.iloc[1:].argmax()+1],A.iloc[1:].argmax())"
   ],
   "metadata": {
    "collapsed": false,
    "pycharm": {
     "name": "#%%\n"
    }
   }
  }
 ],
 "metadata": {
  "kernelspec": {
   "display_name": "Python 3",
   "language": "python",
   "name": "python3"
  },
  "language_info": {
   "codemirror_mode": {
    "name": "ipython",
    "version": 2
   },
   "file_extension": ".py",
   "mimetype": "text/x-python",
   "name": "python",
   "nbconvert_exporter": "python",
   "pygments_lexer": "ipython2",
   "version": "2.7.6"
  }
 },
 "nbformat": 4,
 "nbformat_minor": 0
}