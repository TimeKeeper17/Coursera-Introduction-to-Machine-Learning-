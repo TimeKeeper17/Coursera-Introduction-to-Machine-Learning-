{
 "cells": [
  {
   "cell_type": "markdown",
   "source": [
    "The second task"
   ],
   "metadata": {
    "collapsed": false,
    "pycharm": {
     "name": "#%% md\n"
    }
   }
  },
  {
   "cell_type": "code",
   "execution_count": 8,
   "outputs": [
    {
     "name": "stdout",
     "output_type": "stream",
     "text": [
      "[0.14000522 0.30343647 0.2560461  0.30051221]\n",
      "Fare Sex\n"
     ]
    }
   ],
   "source": [
    "import numpy as np\n",
    "import pandas\n",
    "\n",
    "from sklearn.tree import DecisionTreeClassifier\n",
    "\n",
    "data=pandas.read_csv('titanic.csv' , index_col='PassengerId')\n",
    "\n",
    "y = data['Survived']\n",
    "\n",
    "#print(a)\n",
    "data=data[['Pclass','Fare','Age','Sex']]\n",
    "\n",
    "data['Sex'] = data['Sex'].map(lambda sex: 1 if sex == 'male' else 0)\n",
    "\n",
    "y=y.loc[np.isnan(data['Age']) == False]\n",
    "\n",
    "data = data.loc[np.isnan(data['Age']) == False]\n",
    "#print(data)\n",
    "#print(y)\n",
    "\n",
    "clf=DecisionTreeClassifier(random_state=241)\n",
    "clf.fit(np.array(data.values),np.array(y.values))\n",
    "\n",
    "ans = clf.feature_importances_\n",
    "print(ans)\n",
    "\n",
    "col=['Pclass','Fare','Age','Sex']\n",
    "\n",
    "ans1=list(ans)\n",
    "max1_ans=max(ans1)\n",
    "ind_max1_ans=ans1.index(max1_ans)\n",
    "ans1[ind_max1_ans]=0\n",
    "#print(ans1)\n",
    "\n",
    "max2_ans=max(ans1)\n",
    "ind_max2_ans=ans1.index(max2_ans)\n",
    "ans1[ind_max2_ans]=0\n",
    "#print(ans1)\n",
    "\n",
    "print(col[ind_max1_ans],col[ind_max2_ans])\n",
    "\n",
    "\n"
   ],
   "metadata": {
    "collapsed": false,
    "pycharm": {
     "name": "#%%\n"
    }
   }
  },
  {
   "cell_type": "code",
   "execution_count": null,
   "outputs": [],
   "source": [],
   "metadata": {
    "collapsed": false,
    "pycharm": {
     "name": "#%%\n"
    }
   }
  }
 ],
 "metadata": {
  "kernelspec": {
   "display_name": "Python 3",
   "language": "python",
   "name": "python3"
  },
  "language_info": {
   "codemirror_mode": {
    "name": "ipython",
    "version": 2
   },
   "file_extension": ".py",
   "mimetype": "text/x-python",
   "name": "python",
   "nbconvert_exporter": "python",
   "pygments_lexer": "ipython2",
   "version": "2.7.6"
  }
 },
 "nbformat": 4,
 "nbformat_minor": 0
}