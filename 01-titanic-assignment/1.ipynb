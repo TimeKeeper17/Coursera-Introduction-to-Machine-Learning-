{
 "cells": [
  {
   "cell_type": "markdown",
   "source": [
    "01-titanic-assignment\n",
    "\n",
    "Задания 1-5"
   ],
   "metadata": {
    "collapsed": false,
    "pycharm": {
     "name": "#%% md\n"
    }
   }
  },
  {
   "cell_type": "code",
   "execution_count": null,
   "outputs": [],
   "source": [
    "print(\"Hellow world\")\n",
    "import pandas\n",
    "\n",
    "data = pandas.read_csv('titanic.csv')#, index_col='PassengerId')\n",
    "\n",
    "#print(data[:10])\n",
    "print(data.head())\n",
    "\n",
    "#print(data['Pclass'])\n",
    "\n",
    "#print(data['Pclass'].value_counts())\n",
    "\n",
    "print(data['Sex'].value_counts()[1])\n",
    "print(data['Sex'].value_counts('n'))\n",
    "\n",
    "print(data['Survived'].value_counts(1))\n",
    "\n",
    "print(data['Pclass'].value_counts(1))\n",
    "\n",
    "print(data['Age'].mean())\n",
    "print(data['Age'].median())\n",
    "\n",
    "print(data['SibSp'].corr(data['Parch']))\n",
    "import seaborn as sns\n",
    "sns.heatmap(data[['SibSp','Parch']].corr(),annot = True, fmt='.1g')\n",
    "# sns.heatmap(data['SibSp'])"
   ],
   "metadata": {
    "collapsed": false,
    "pycharm": {
     "name": "#%%\n"
    }
   }
  },
  {
   "cell_type": "markdown",
   "source": [
    "Задание 6"
   ],
   "metadata": {
    "collapsed": false,
    "pycharm": {
     "name": "#%% md\n"
    }
   }
  },
  {
   "cell_type": "code",
   "execution_count": null,
   "outputs": [],
   "source": [
    "import time\n",
    "start_time = time.time()\n",
    "import re\n",
    "df = data[data['Sex'] == 'female']\n",
    "#print(df)\n",
    "df = df['Name'].str.split(r\"\\s\", expand=True)\n",
    "\n",
    "print(df)\n",
    "\n",
    "\n",
    "#p = re.search(('[A-Z][a-z]+'), df)\n",
    "#print(p.group() if p else 'not found')\n",
    "\n",
    "#df = pandas.DataFrame({'N': ['Wil','Mary','Anna',',Mary','Anna.']})\n",
    "\n",
    "\n",
    "pattern = r'\\W+'\n",
    "df= df[2].apply(lambda x: re.sub(pattern, '', x))\n",
    "df= df.apply(lambda x: re.sub('\\w*Ann\\w*', 'Anna', x))\n",
    "\n",
    "#print(df[150:200])\n",
    "print(df.value_counts())\n",
    "#print(df['Name'].str.split(r\"\\s\", expand=True)[2].value_counts())\n",
    "print(\"--- %s seconds ---\" % (time.time() - start_time))"
   ],
   "metadata": {
    "collapsed": false,
    "pycharm": {
     "name": "#%%\n"
    }
   }
  }
 ],
 "metadata": {
  "kernelspec": {
   "display_name": "Python 3",
   "language": "python",
   "name": "python3"
  },
  "language_info": {
   "codemirror_mode": {
    "name": "ipython",
    "version": 2
   },
   "file_extension": ".py",
   "mimetype": "text/x-python",
   "name": "python",
   "nbconvert_exporter": "python",
   "pygments_lexer": "ipython2",
   "version": "2.7.6"
  }
 },
 "nbformat": 4,
 "nbformat_minor": 0
}