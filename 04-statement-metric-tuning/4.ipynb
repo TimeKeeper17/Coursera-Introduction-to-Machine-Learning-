{
 "cells": [
  {
   "cell_type": "code",
   "execution_count": 3,
   "metadata": {
    "collapsed": true,
    "pycharm": {
     "name": "#%%\n"
    }
   },
   "outputs": [
    {
     "name": "stdout",
     "output_type": "stream",
     "text": [
      "1.0   -16.030647\n",
      "dtype: float64\n"
     ]
    }
   ],
   "source": [
    "import numpy as np\n",
    "import pandas\n",
    "import sklearn.preprocessing\n",
    "from sklearn.neighbors import KNeighborsRegressor\n",
    "from sklearn.model_selection import KFold\n",
    "from sklearn.model_selection import cross_val_score\n",
    "from sklearn import metrics\n",
    "from sklearn import datasets\n",
    "\n",
    "#data=datasets.load_boston()\n",
    "\n",
    "data_url = \"http://lib.stat.cmu.edu/datasets/boston\"\n",
    "raw_df = pandas.read_csv(data_url, sep=\"\\s+\", skiprows=22, header=None)\n",
    "data = np.hstack([raw_df.values[::2, :], raw_df.values[1::2, :2]])\n",
    "target = raw_df.values[1::2, 2]\n",
    "#print(DataFrame(target))\n",
    "\n",
    "data=sklearn.preprocessing.scale(data)\n",
    "\n",
    "cv=KFold(n_splits=5,random_state=42,shuffle=True)\n",
    "\n",
    "a=np.linspace(1,10,200)\n",
    "\n",
    "scores = []\n",
    "for i in np.linspace(1,10,200):\n",
    "    clf = KNeighborsRegressor(n_neighbors=5,  weights='distance',p=i)\n",
    "    scores.append(cross_val_score(clf, data, target, cv = cv, scoring = 'neg_mean_squared_error'))\n",
    "ans=pandas.DataFrame(scores,np.linspace(1, 10, 200)).mean(axis = 1 ).sort_values(ascending = False).head(1)\n",
    "print(ans)\n",
    "\n"
   ]
  },
  {
   "cell_type": "code",
   "execution_count": null,
   "outputs": [],
   "source": [],
   "metadata": {
    "collapsed": false,
    "pycharm": {
     "name": "#%%\n"
    }
   }
  }
 ],
 "metadata": {
  "kernelspec": {
   "display_name": "Python 3",
   "language": "python",
   "name": "python3"
  },
  "language_info": {
   "codemirror_mode": {
    "name": "ipython",
    "version": 2
   },
   "file_extension": ".py",
   "mimetype": "text/x-python",
   "name": "python",
   "nbconvert_exporter": "python",
   "pygments_lexer": "ipython2",
   "version": "2.7.6"
  }
 },
 "nbformat": 4,
 "nbformat_minor": 0
}