{
 "cells": [
  {
   "cell_type": "markdown",
   "source": [
    "#1"
   ],
   "metadata": {
    "collapsed": false,
    "pycharm": {
     "name": "#%% md\n"
    }
   }
  },
  {
   "cell_type": "code",
   "execution_count": null,
   "outputs": [],
   "source": [
    "import sklearn\n",
    "import pandas\n",
    "from sklearn.model_selection import KFold\n",
    "\n",
    "data=pandas.read_csv('wine.data', header=None)\n",
    "#print(data.iloc[[3]])\n",
    "#print(data)"
   ],
   "metadata": {
    "collapsed": false,
    "pycharm": {
     "name": "#%%\n"
    }
   }
  },
  {
   "cell_type": "markdown",
   "source": [
    "#2"
   ],
   "metadata": {
    "collapsed": false,
    "pycharm": {
     "name": "#%% md\n"
    }
   }
  },
  {
   "cell_type": "code",
   "execution_count": null,
   "outputs": [],
   "source": [
    "\n",
    "y=data[0]\n",
    "x=data.iloc[:,1:]"
   ],
   "metadata": {
    "collapsed": false,
    "pycharm": {
     "name": "#%%\n"
    }
   }
  },
  {
   "cell_type": "markdown",
   "source": [
    "#3"
   ],
   "metadata": {
    "collapsed": false,
    "pycharm": {
     "name": "#%% md\n"
    }
   }
  },
  {
   "cell_type": "code",
   "execution_count": null,
   "outputs": [],
   "source": [
    "\n",
    "kf = KFold(n_splits=5, random_state=42, shuffle=True)\n",
    "#print(kf)"
   ],
   "metadata": {
    "collapsed": false,
    "pycharm": {
     "name": "#%%\n"
    }
   }
  },
  {
   "cell_type": "markdown",
   "source": [
    "#4"
   ],
   "metadata": {
    "collapsed": false,
    "pycharm": {
     "name": "#%% md\n"
    }
   }
  },
  {
   "cell_type": "code",
   "execution_count": null,
   "outputs": [],
   "source": [
    "\n",
    "from sklearn.model_selection import cross_val_score\n",
    "from sklearn import neighbors\n",
    "#knn = neighbors.KNeighborsClassifier()\n",
    "#print(cross_val_score(knn, x, y,  scoring='accuracy', cv=kf))\n",
    "means=[]\n",
    "for k in range(1,51):\n",
    "    knn = neighbors.KNeighborsClassifier(k)\n",
    "    ans=cross_val_score(knn, x, y,  scoring='accuracy', cv=kf)\n",
    "    means.append(ans.mean())\n",
    "    #print(k, ans.mean())\n",
    "m = max(means)\n",
    "indices = [i for i, j in enumerate(means) if j == m]\n",
    "print(m, indices)"
   ],
   "metadata": {
    "collapsed": false,
    "pycharm": {
     "name": "#%%\n"
    }
   }
  },
  {
   "cell_type": "markdown",
   "source": [
    "#5-6"
   ],
   "metadata": {
    "collapsed": false,
    "pycharm": {
     "name": "#%% md\n"
    }
   }
  },
  {
   "cell_type": "code",
   "execution_count": null,
   "outputs": [],
   "source": [
    "\n",
    "new_means=[]\n",
    "new_x= sklearn.preprocessing.scale(x)\n",
    "for k in range(1,51):\n",
    "    knn = neighbors.KNeighborsClassifier(k)\n",
    "    ans=cross_val_score(knn, new_x, y,  scoring='accuracy', cv=kf)\n",
    "    new_means.append(ans.mean())\n",
    "    #print(k, ans.mean())\n",
    "m = max(new_means)\n",
    "indices = [i for i, j in enumerate(new_means) if j == m]\n",
    "print(m, indices)"
   ],
   "metadata": {
    "collapsed": false,
    "pycharm": {
     "name": "#%%\n"
    }
   }
  }
 ],
 "metadata": {
  "kernelspec": {
   "display_name": "Python 3",
   "language": "python",
   "name": "python3"
  },
  "language_info": {
   "codemirror_mode": {
    "name": "ipython",
    "version": 2
   },
   "file_extension": ".py",
   "mimetype": "text/x-python",
   "name": "python",
   "nbconvert_exporter": "python",
   "pygments_lexer": "ipython2",
   "version": "2.7.6"
  }
 },
 "nbformat": 4,
 "nbformat_minor": 0
}