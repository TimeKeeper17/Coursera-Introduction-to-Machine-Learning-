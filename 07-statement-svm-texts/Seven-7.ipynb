{
 "cells": [
  {
   "cell_type": "code",
   "execution_count": 4,
   "metadata": {
    "collapsed": true,
    "pycharm": {
     "name": "#%%\n"
    }
   },
   "outputs": [],
   "source": [
    "import numpy as np\n",
    "import pandas\n",
    "import sklearn.preprocessing\n",
    "from sklearn.model_selection import KFold\n",
    "from sklearn.feature_extraction.text import TfidfVectorizer\n",
    "from sklearn.svm import SVC"
   ]
  },
  {
   "cell_type": "markdown",
   "source": [
    "#1-2"
   ],
   "metadata": {
    "collapsed": false,
    "pycharm": {
     "name": "#%% md\n"
    }
   }
  },
  {
   "cell_type": "code",
   "execution_count": 5,
   "outputs": [
    {
     "name": "stderr",
     "output_type": "stream",
     "text": [
      "IOPub data rate exceeded.\n",
      "The Jupyter server will temporarily stop sending output\n",
      "to the client in order to avoid crashing it.\n",
      "To change this limit, set the config variable\n",
      "`--ServerApp.iopub_data_rate_limit`.\n",
      "\n",
      "Current values:\n",
      "ServerApp.iopub_data_rate_limit=1000000.0 (bytes/sec)\n",
      "ServerApp.rate_limit_window=3.0 (secs)\n",
      "\n"
     ]
    }
   ],
   "source": [
    "from sklearn import datasets\n",
    "newsgroups = datasets.fetch_20newsgroups(\n",
    "    subset='all',\n",
    "    categories=['alt.atheism','sci.space']\n",
    ")\n",
    "print(newsgroups)\n",
    "vectorizer = TfidfVectorizer()\n",
    "x = vectorizer.fit_transform(newsgroups.data)\n",
    "from sklearn.model_selection import GridSearchCV\n",
    "\n",
    "#kf = KFold(n_splits=5, random_state=241, shuffle=True)\n",
    "\n",
    "#for k in range(-5,6):\n",
    "#    knn = neighbors.KNeighborsClassifier(k)\n",
    "#    ans=cross_val_score(knn, x, y,  scoring='accuracy', cv=kf)\n",
    "\n",
    "y=newsgroups.target"
   ],
   "metadata": {
    "collapsed": false,
    "pycharm": {
     "name": "#%%\n"
    }
   }
  },
  {
   "cell_type": "markdown",
   "source": [
    "#3"
   ],
   "metadata": {
    "collapsed": false,
    "pycharm": {
     "name": "#%% md\n"
    }
   }
  },
  {
   "cell_type": "code",
   "execution_count": 6,
   "outputs": [
    {
     "name": "stdout",
     "output_type": "stream",
     "text": [
      "{'C': 1.0}\n"
     ]
    }
   ],
   "source": [
    "grid = {'C':np.power(10.0, np.arange(-5, 6))}\n",
    "cv = KFold (n_splits =5, shuffle=True , random_state =241)\n",
    "clf = sklearn.svm.SVC(kernel='linear', random_state =241)\n",
    "gs = GridSearchCV(clf,grid,scoring='accuracy',cv=cv)\n",
    "gs.fit(x,y)\n",
    "#print(sorted(gs.cv_results_.keys()))\n",
    "#for a in gs.cv_results_:\n",
    "    #print(a, a.mean_validation_score)\n",
    "    #print(a.parameters)\n",
    "    #print(a, gs.cv_results_[a])\n",
    "print(gs.best_params_)\n",
    "best_c=gs.best_params_"
   ],
   "metadata": {
    "collapsed": false,
    "pycharm": {
     "name": "#%%\n"
    }
   }
  },
  {
   "cell_type": "markdown",
   "source": [
    "#4-5"
   ],
   "metadata": {
    "collapsed": false,
    "pycharm": {
     "name": "#%% md\n"
    }
   }
  },
  {
   "cell_type": "code",
   "execution_count": 7,
   "outputs": [
    {
     "data": {
      "text/plain": "array(['atheism', 'atheists', 'bible', 'god', 'keith', 'moon', 'religion',\n       'sci', 'sky', 'space'], dtype=object)"
     },
     "execution_count": 7,
     "metadata": {},
     "output_type": "execute_result"
    }
   ],
   "source": [
    "clf = sklearn.svm.SVC(C=best_c['C'], kernel='linear', random_state =241)\n",
    "clf.fit(x,y)\n",
    "#print(clf.support_)\n",
    "#print(clf.support_vectors_)\n",
    "words = vectorizer.get_feature_names_out()\n",
    "#print(words)\n",
    "coef = pandas.DataFrame(clf.coef_.data, clf.coef_.indices)\n",
    "top_words = coef[0].map(lambda w: abs(w)).sort_values(ascending=False).head(10).index.map(lambda i: words[i])\n",
    "np.sort(top_words)\n",
    "\n"
   ],
   "metadata": {
    "collapsed": false,
    "pycharm": {
     "name": "#%%\n"
    }
   }
  }
 ],
 "metadata": {
  "kernelspec": {
   "display_name": "Python 3",
   "language": "python",
   "name": "python3"
  },
  "language_info": {
   "codemirror_mode": {
    "name": "ipython",
    "version": 2
   },
   "file_extension": ".py",
   "mimetype": "text/x-python",
   "name": "python",
   "nbconvert_exporter": "python",
   "pygments_lexer": "ipython2",
   "version": "2.7.6"
  }
 },
 "nbformat": 4,
 "nbformat_minor": 0
}